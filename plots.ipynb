{
 "cells": [
  {
   "cell_type": "markdown",
   "source": [
    "Demonstration Datendownload"
   ],
   "metadata": {}
  },
  {
   "cell_type": "code",
   "execution_count": null,
   "source": [
    "import pandas as pd\r\n",
    "import numpy as np\r\n",
    "import scipy as sp\r\n",
    "import chart_studio.plotly as py\r\n"
   ],
   "outputs": [],
   "metadata": {}
  },
  {
   "cell_type": "code",
   "execution_count": null,
   "source": [
    "import chart_studio.plotly as py\r\n",
    "import plotly.figure_factory as ff\r\n",
    "import pandas as pd\r\n",
    "\r\n",
    "df = pd.read_csv(\"https://raw.githubusercontent.com/plotly/datasets/master/school_earnings.csv\")\r\n",
    "\r\n",
    "table = ff.create_table(df)\r\n",
    "py.iplot(table, filename='jupyter-table1')"
   ],
   "outputs": [],
   "metadata": {}
  },
  {
   "cell_type": "markdown",
   "source": [
    "Plotting"
   ],
   "metadata": {}
  },
  {
   "cell_type": "code",
   "execution_count": null,
   "source": [
    "import chart_studio.plotly as py\r\n",
    "import plotly.graph_objects as go\r\n",
    "\r\n",
    "data = [go.Bar(x=df.School,\r\n",
    "            y=df.Gap)]\r\n",
    "\r\n",
    "py.iplot(data, filename='jupyter-basic_bar')"
   ],
   "outputs": [],
   "metadata": {}
  },
  {
   "cell_type": "markdown",
   "source": [
    "Interaktive Plots"
   ],
   "metadata": {}
  },
  {
   "cell_type": "code",
   "execution_count": null,
   "source": [
    "import chart_studio.plotly as py\r\n",
    "import numpy as np\r\n",
    "\r\n",
    "data = [dict(\r\n",
    "        visible = False,\r\n",
    "        line=dict(color='#00CED1', width=6),\r\n",
    "        name = '𝜈 = '+str(step),\r\n",
    "        x = np.arange(0,10,0.01),\r\n",
    "        y = np.sin(step*np.arange(0,10,0.01))) for step in np.arange(0,5,0.1)]\r\n",
    "data[10]['visible'] = True\r\n",
    "\r\n",
    "steps = []\r\n",
    "for i in range(len(data)):\r\n",
    "    step = dict(\r\n",
    "        method = 'restyle',\r\n",
    "        args = ['visible', [False] * len(data)],\r\n",
    "    )\r\n",
    "    step['args'][1][i] = True # Toggle i'th trace to \"visible\"\r\n",
    "    steps.append(step)\r\n",
    "\r\n",
    "sliders = [dict(\r\n",
    "    active = 10,\r\n",
    "    currentvalue = {\"prefix\": \"Frequency: \"},\r\n",
    "    pad = {\"t\": 50},\r\n",
    "    steps = steps\r\n",
    ")]\r\n",
    "\r\n",
    "layout = dict(sliders=sliders)\r\n",
    "fig = dict(data=data, layout=layout)\r\n",
    "\r\n",
    "py.iplot(fig, filename='Sine Wave Slider')"
   ],
   "outputs": [],
   "metadata": {}
  }
 ],
 "metadata": {
  "orig_nbformat": 4,
  "language_info": {
   "name": "python"
  }
 },
 "nbformat": 4,
 "nbformat_minor": 2
}