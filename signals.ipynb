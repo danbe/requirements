{
 "cells": [
  {
   "cell_type": "markdown",
   "source": [
    "A Simple Demonstration of scipy.signal"
   ],
   "metadata": {}
  },
  {
   "cell_type": "code",
   "execution_count": null,
   "source": [
    "# IIR Filter\r\n",
    "import numpy as np\r\n",
    "import scipy.signal as signal\r\n",
    "import matplotlib.pyplot as plt\r\n",
    "b, a = signal.iirdesign(wp=100, ws=200, gpass=2.0, gstop=40., analog=True)\r\n",
    "w, h = signal.freqs(b, a)\r\n",
    "plt.title('Analog filter frequency response')\r\n",
    "plt.plot(w, 20*np.log10(np.abs(h)))\r\n",
    "plt.ylabel('Amplitude Response [dB]')\r\n",
    "plt.xlabel('Frequency')\r\n",
    "plt.grid()\r\n",
    "plt.show()\r\n",
    "\r\n",
    "# Pole Zero Plot\r\n",
    "z, p, k = signal.tf2zpk(b, a)\r\n",
    "plt.plot(np.real(z), np.imag(z), 'xb')\r\n",
    "plt.plot(np.real(p), np.imag(p), 'or')\r\n",
    "plt.legend(['Zeros', 'Poles'], loc=2)\r\n",
    "plt.title('Pole / Zero Plot')\r\n",
    "plt.ylabel('Real')\r\n",
    "plt.xlabel('Imaginary')\r\n",
    "plt.grid()\r\n",
    "plt.show()"
   ],
   "outputs": [],
   "metadata": {}
  }
 ],
 "metadata": {
  "orig_nbformat": 4,
  "language_info": {
   "name": "python"
  }
 },
 "nbformat": 4,
 "nbformat_minor": 2
}